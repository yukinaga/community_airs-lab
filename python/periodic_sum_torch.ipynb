{
  "nbformat": 4,
  "nbformat_minor": 0,
  "metadata": {
    "colab": {
      "name": "periodic_sum_torch.ipynb",
      "provenance": [],
      "authorship_tag": "ABX9TyOnzq/GDZCBaK8VzHxokBcj",
      "include_colab_link": true
    },
    "kernelspec": {
      "name": "python3",
      "display_name": "Python 3"
    },
    "language_info": {
      "name": "python"
    }
  },
  "cells": [
    {
      "cell_type": "markdown",
      "metadata": {
        "id": "view-in-github",
        "colab_type": "text"
      },
      "source": [
        "<a href=\"https://colab.research.google.com/github/yukinaga/community_airs-lab/blob/main/python/periodic_sum_torch.ipynb\" target=\"_parent\"><img src=\"https://colab.research.google.com/assets/colab-badge.svg\" alt=\"Open In Colab\"/></a>"
      ]
    },
    {
      "cell_type": "code",
      "execution_count": 6,
      "metadata": {
        "colab": {
          "base_uri": "https://localhost:8080/"
        },
        "id": "2YgRK0RhA5l6",
        "outputId": "eadc423a-c71c-4b4d-a967-9059e0224a11"
      },
      "outputs": [
        {
          "output_type": "stream",
          "name": "stdout",
          "text": [
            "torch.Size([2000, 30])\n",
            "torch.Size([100, 20])\n"
          ]
        }
      ],
      "source": [
        "import torch\n",
        "\n",
        "x = torch.arange((20*100)*30).view(-1, 30)\n",
        "print(x.size())\n",
        "\n",
        "y = torch.sum(x.view(-1, 20, 30), dim=2)\n",
        "print(y.size())"
      ]
    }
  ]
}