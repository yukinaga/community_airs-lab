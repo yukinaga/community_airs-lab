{
  "nbformat": 4,
  "nbformat_minor": 0,
  "metadata": {
    "colab": {
      "name": "collatz_conjecture.ipynb",
      "provenance": [],
      "collapsed_sections": [],
      "authorship_tag": "ABX9TyO5ir1sQkFbsbPorI0PibwK",
      "include_colab_link": true
    },
    "kernelspec": {
      "name": "python3",
      "display_name": "Python 3"
    },
    "language_info": {
      "name": "python"
    }
  },
  "cells": [
    {
      "cell_type": "markdown",
      "metadata": {
        "id": "view-in-github",
        "colab_type": "text"
      },
      "source": [
        "<a href=\"https://colab.research.google.com/github/yukinaga/community_airs-lab/blob/main/python/collatz_conjecture.ipynb\" target=\"_parent\"><img src=\"https://colab.research.google.com/assets/colab-badge.svg\" alt=\"Open In Colab\"/></a>"
      ]
    },
    {
      "cell_type": "markdown",
      "metadata": {
        "id": "7f8mc_5SklE2"
      },
      "source": [
        "# コラッツ予想\n",
        "\n",
        "\n",
        "以下は、「コラッツ予想」と呼ばれる数学の未解決問題です。\n",
        "\n",
        "---\n",
        "どんな自然数でも、\n",
        "* 偶数なら2で割る\n",
        "* 奇数なら3倍して1を足す\n",
        "\n",
        "を繰り返せば、必ず1に到達する\n",
        "\n",
        "---\n",
        "\n",
        "これを、自然数の上限を設定した上でコードで確認します。"
      ]
    },
    {
      "cell_type": "code",
      "metadata": {
        "colab": {
          "base_uri": "https://localhost:8080/"
        },
        "id": "Ytv8k5uyEbTK",
        "outputId": "57e07ef1-d722-4cdb-d36a-a26a8bd13b8f"
      },
      "source": [
        "n_max = 10000 # 確認する自然数の上限\n",
        "n_limit = 1000 # 操作を繰り返す上限\n",
        "is_fail = False  # 1に到達できなかったらTrue\n",
        "\n",
        "for n in range(1, n_max+1):\n",
        "    n_copy = n\n",
        "    is_one = False # 1に到達したらTrue\n",
        "\n",
        "    for i in range(n_limit):\n",
        "        if n_copy%2 == 0:\n",
        "            n_copy /= 2\n",
        "        else:\n",
        "            n_copy = 3*n_copy + 1\n",
        "\n",
        "        if n_copy == 1:\n",
        "            is_one = True\n",
        "            break\n",
        "\n",
        "    if not is_one:\n",
        "        is_fail = True\n",
        "        break \n",
        "    \n",
        "if is_fail:\n",
        "    print(str(n) + \"は1に到達できませんでした。\")\n",
        "else:\n",
        "    print(\"コラッツ予想は\" + str(n) + \"まで正しいことを確認しました。\")"
      ],
      "execution_count": 10,
      "outputs": [
        {
          "output_type": "stream",
          "name": "stdout",
          "text": [
            "コラッツ予想は10000まで正しいことを確認しました。\n"
          ]
        }
      ]
    }
  ]
}